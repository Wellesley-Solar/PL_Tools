{
 "cells": [
  {
   "cell_type": "code",
   "execution_count": 1,
   "metadata": {},
   "outputs": [],
   "source": [
    "#%% Import required packages\n",
    "import pandas as pd\n",
    "import glob\n",
    "import numpy as np\n",
    "import matplotlib.pyplot as plt\n",
    "import matplotlib.cm as cm\n",
    "from scipy.optimize import curve_fit\n",
    "from PLfunctions import sample_name, find_nearest, weighted_PL, trim_data, exp_fit"
   ]
  },
  {
   "cell_type": "code",
   "execution_count": 3,
   "metadata": {},
   "outputs": [],
   "source": [
    "chem = 'MAPbI2Br'\n",
    "exp = '58min'\n",
    "laser = '488nm'\n",
    "power = '5mW'\n",
    "OD = '1p5'\n",
    "delay = 120 #time experiment is running before data \n",
    "lim1 = 550 #high energy cutoff\n",
    "lim2 = 850 #low energy cutoff"
   ]
  },
  {
   "cell_type": "code",
   "execution_count": 123,
   "metadata": {},
   "outputs": [],
   "source": [
    "path = r'MAPbI3_488nm_5mW_OD1p5_100ms 2020 July 30 13_13_05.csv' # use your path\n",
    "all_files = sorted(glob.glob('MAPbI3_488nm_5mW_OD1p5_100ms 2020 July 30 13_13_05.csv'))\n",
    "# all_files = sorted(glob.glob(\"08-02-2020 14_49_49 488nm_5mW_OD1p5_10ms_MAPBI5Br5_firsttwomin-Frame-10.csv\"))"
   ]
  },
  {
   "cell_type": "code",
   "execution_count": 75,
   "metadata": {},
   "outputs": [
    {
     "ename": "NameError",
     "evalue": "name 'interval' is not defined",
     "output_type": "error",
     "traceback": [
      "\u001b[0;31m---------------------------------------------------------------------------\u001b[0m",
      "\u001b[0;31mNameError\u001b[0m                                 Traceback (most recent call last)",
      "\u001b[0;32m<ipython-input-75-4a8e5398130e>\u001b[0m in \u001b[0;36m<module>\u001b[0;34m\u001b[0m\n\u001b[1;32m      1\u001b[0m \u001b[0;32mfor\u001b[0m \u001b[0mx\u001b[0m \u001b[0;32min\u001b[0m \u001b[0mrange\u001b[0m\u001b[0;34m(\u001b[0m\u001b[0mlen\u001b[0m\u001b[0;34m(\u001b[0m\u001b[0mall_files\u001b[0m\u001b[0;34m)\u001b[0m\u001b[0;34m)\u001b[0m\u001b[0;34m:\u001b[0m\u001b[0;34m\u001b[0m\u001b[0;34m\u001b[0m\u001b[0m\n\u001b[1;32m      2\u001b[0m     \u001b[0mdf\u001b[0m \u001b[0;34m=\u001b[0m \u001b[0mpd\u001b[0m\u001b[0;34m.\u001b[0m\u001b[0mread_csv\u001b[0m\u001b[0;34m(\u001b[0m\u001b[0mall_files\u001b[0m\u001b[0;34m[\u001b[0m\u001b[0mx\u001b[0m\u001b[0;34m]\u001b[0m\u001b[0;34m,\u001b[0m \u001b[0mindex_col\u001b[0m\u001b[0;34m=\u001b[0m\u001b[0;32mNone\u001b[0m\u001b[0;34m,\u001b[0m \u001b[0mheader\u001b[0m\u001b[0;34m=\u001b[0m\u001b[0;36m0\u001b[0m\u001b[0;34m)\u001b[0m \u001b[0;31m#read file\u001b[0m\u001b[0;34m\u001b[0m\u001b[0;34m\u001b[0m\u001b[0m\n\u001b[0;32m----> 3\u001b[0;31m     \u001b[0mcurrent\u001b[0m \u001b[0;34m=\u001b[0m \u001b[0mround\u001b[0m\u001b[0;34m(\u001b[0m\u001b[0mx\u001b[0m\u001b[0;34m*\u001b[0m\u001b[0minterval\u001b[0m\u001b[0;34m,\u001b[0m\u001b[0;36m2\u001b[0m\u001b[0;34m)\u001b[0m \u001b[0;31m#assign time to file\u001b[0m\u001b[0;34m\u001b[0m\u001b[0;34m\u001b[0m\u001b[0m\n\u001b[0m\u001b[1;32m      4\u001b[0m     \u001b[0mtemp\u001b[0m \u001b[0;34m=\u001b[0m \u001b[0mdf\u001b[0m\u001b[0;34m.\u001b[0m\u001b[0madd_suffix\u001b[0m\u001b[0;34m(\u001b[0m\u001b[0mstr\u001b[0m\u001b[0;34m(\u001b[0m\u001b[0mcurrent\u001b[0m\u001b[0;34m)\u001b[0m\u001b[0;34m)\u001b[0m \u001b[0;31m#link time to file\u001b[0m\u001b[0;34m\u001b[0m\u001b[0;34m\u001b[0m\u001b[0m\n\u001b[1;32m      5\u001b[0m     \u001b[0mfullset\u001b[0m \u001b[0;34m=\u001b[0m \u001b[0mpd\u001b[0m\u001b[0;34m.\u001b[0m\u001b[0mconcat\u001b[0m\u001b[0;34m(\u001b[0m\u001b[0;34m[\u001b[0m\u001b[0mfullset\u001b[0m\u001b[0;34m,\u001b[0m \u001b[0mtemp\u001b[0m\u001b[0;34m[\u001b[0m\u001b[0;34m[\u001b[0m\u001b[0;34m\"Intensity\"\u001b[0m\u001b[0;34m+\u001b[0m\u001b[0mstr\u001b[0m\u001b[0;34m(\u001b[0m\u001b[0mcurrent\u001b[0m\u001b[0;34m)\u001b[0m\u001b[0;34m]\u001b[0m\u001b[0;34m]\u001b[0m\u001b[0;34m]\u001b[0m\u001b[0;34m,\u001b[0m \u001b[0maxis\u001b[0m\u001b[0;34m=\u001b[0m\u001b[0;36m1\u001b[0m\u001b[0;34m)\u001b[0m \u001b[0;31m#add intensity data to file\u001b[0m\u001b[0;34m\u001b[0m\u001b[0;34m\u001b[0m\u001b[0m\n",
      "\u001b[0;31mNameError\u001b[0m: name 'interval' is not defined"
     ]
    }
   ],
   "source": [
    "for x in range(len(all_files)):\n",
    "    df = pd.read_csv(all_files[x], index_col=None, header=0) #read file\n",
    "    current = round(x*interval,2) #assign time to file \n",
    "    temp = df.add_suffix(str(current)) #link time to file \n",
    "    fullset = pd.concat([fullset, temp[[\"Intensity\"+str(current)]]], axis=1) #add intensity data to file\n",
    "    time.append(current+delay) #save time"
   ]
  },
  {
   "cell_type": "code",
   "execution_count": 126,
   "metadata": {},
   "outputs": [],
   "source": [
    "df = pd.read_csv(all_files[x], index_col=None, header=0) #read file"
   ]
  },
  {
   "cell_type": "code",
   "execution_count": 127,
   "metadata": {},
   "outputs": [],
   "source": [
    "wavelength=df['Wavelength']\n",
    "intensity=df['Intensity']"
   ]
  },
  {
   "cell_type": "code",
   "execution_count": 128,
   "metadata": {},
   "outputs": [
    {
     "data": {
      "text/plain": [
       "[<matplotlib.lines.Line2D at 0x7f2f8f49d4e0>]"
      ]
     },
     "execution_count": 128,
     "metadata": {},
     "output_type": "execute_result"
    },
    {
     "data": {
      "image/png": "[encoded data removed]",
      "text/plain": [
       "<Figure size 432x288 with 1 Axes>"
      ]
     },
     "metadata": {
      "needs_background": "light"
     },
     "output_type": "display_data"
    }
   ],
   "source": [
    "plt.plot(wavelength, intensity)"
   ]
  },
  {
   "cell_type": "code",
   "execution_count": 81,
   "metadata": {},
   "outputs": [
    {
     "data": {
      "text/plain": [
       "720.3505932190756"
      ]
     },
     "execution_count": 81,
     "metadata": {},
     "output_type": "execute_result"
    }
   ],
   "source": [
    "inten_weigh_avg = sum(intensity*wavelength)/sum(intensity)\n",
    "inten_weigh_avg"
   ]
  },
  {
   "cell_type": "code",
   "execution_count": 115,
   "metadata": {},
   "outputs": [
    {
     "data": {
      "text/plain": [
       "1674.7999559544805"
      ]
     },
     "execution_count": 115,
     "metadata": {},
     "output_type": "execute_result"
    }
   ],
   "source": [
    "inten_avg = sum(intensity)/len(intensity)\n",
    "inten_avg"
   ]
  },
  {
   "cell_type": "code",
   "execution_count": 61,
   "metadata": {},
   "outputs": [],
   "source": [
    "def gaussian(x, height, center, width):\n",
    "    return height*np.exp(-(x - center)**2/(2*width**2))"
   ]
  },
  {
   "cell_type": "code",
   "execution_count": 46,
   "metadata": {},
   "outputs": [],
   "source": [
    "popt, pcov = curve_fit(gaussian, wavelength, intensity, [4000, 800, 50, 100])"
   ]
  },
  {
   "cell_type": "code",
   "execution_count": 47,
   "metadata": {},
   "outputs": [
    {
     "data": {
      "text/plain": [
       "array([[ 1.06363985e+04,  2.13765490e-06, -3.24926154e+00,\n",
       "        -3.81984149e+02],\n",
       "       [ 2.13765490e-06,  3.59562858e-03, -4.54561134e-06,\n",
       "        -1.39835945e-08],\n",
       "       [-3.24926154e+00, -4.54561134e-06,  3.87665134e-03,\n",
       "        -3.89679258e-01],\n",
       "       [-3.81984149e+02, -1.39835945e-08, -3.89679258e-01,\n",
       "         5.40221102e+02]])"
      ]
     },
     "execution_count": 47,
     "metadata": {},
     "output_type": "execute_result"
    }
   ],
   "source": [
    "pcov"
   ]
  },
  {
   "cell_type": "code",
   "execution_count": 48,
   "metadata": {},
   "outputs": [
    {
     "data": {
      "text/plain": [
       "array([3.96593255e+04, 7.71469957e+02, 2.02277576e+01, 7.87194525e+02])"
      ]
     },
     "execution_count": 48,
     "metadata": {},
     "output_type": "execute_result"
    }
   ],
   "source": [
    "popt"
   ]
  },
  {
   "cell_type": "code",
   "execution_count": 50,
   "metadata": {},
   "outputs": [
    {
     "data": {
      "text/plain": [
       "[<matplotlib.lines.Line2D at 0x7f2f91955128>]"
      ]
     },
     "execution_count": 50,
     "metadata": {},
     "output_type": "execute_result"
    },
    {
     "data": {
      "image/png": "[encoded data removed]",
      "text/plain": [
       "<Figure size 432x288 with 1 Axes>"
      ]
     },
     "metadata": {
      "needs_background": "light"
     },
     "output_type": "display_data"
    }
   ],
   "source": [
    "fig = plt.figure()\n",
    "plt.plot(wavelength, gaussian(wavelength, 3.96593255e+04, 7.71469957e+02, 2.02277576e+01, 7.87194525e+02),'r')\n",
    "plt.plot(wavelength, intensity)"
   ]
  },
  {
   "cell_type": "code",
   "execution_count": 100,
   "metadata": {},
   "outputs": [],
   "source": [
    "def two_gaussians(x, h1, c1, w1, h2, c2, w2,a0):\n",
    "        return (gaussian(x, h1, c1, w1) +\n",
    "            gaussian(x, h2, c2, w2))+a0\n",
    "    \n",
    "def three_gaussians(x, h1, c1, w1, h2, c2, w2, h3, c3, w3,a0):\n",
    "        return (gaussian(x, h1, c1, w1) +\n",
    "            gaussian(x, h2, c2, w2)+ gaussian(x, h3, c3, w3))+a0\n",
    "\n",
    "def _4gaussians(x, h1, c1, w1, h2, c2, w2, h3, c3, w3, h4, c4, w4,a0):\n",
    "        return (gaussian(x, h1, c1, w1) + gaussian(x, h4, c4, w4)+\n",
    "            gaussian(x, h2, c2, w2)+ gaussian(x, h3, c3, w3))+a0"
   ]
  },
  {
   "cell_type": "code",
   "execution_count": 147,
   "metadata": {},
   "outputs": [],
   "source": [
    "popt, pcov = curve_fit(two_gaussians, wavelength, intensity, [4000, 700, 50, 4000, 700, 50,10])"
   ]
  },
  {
   "cell_type": "code",
   "execution_count": 148,
   "metadata": {},
   "outputs": [
    {
     "data": {
      "text/plain": [
       "array([[ 4.25678827e+03,  4.31707903e-01,  1.51791361e+00,\n",
       "        -4.27722167e+03,  9.87006227e-01,  1.34868786e+00,\n",
       "        -2.03400763e+01],\n",
       "       [ 4.31707903e-01,  2.83339169e-04,  1.50091670e-04,\n",
       "        -4.88078490e-01, -3.87434512e-05,  2.13150442e-04,\n",
       "        -4.67760389e-03],\n",
       "       [ 1.51791361e+00,  1.50091670e-04,  7.92765354e-04,\n",
       "        -1.69237864e+00,  3.93402783e-04,  4.61778029e-04,\n",
       "        -5.32582198e-03],\n",
       "       [-4.27722167e+03, -4.88078490e-01, -1.69237864e+00,\n",
       "         4.50982331e+03, -9.86486203e-01, -1.40834082e+00,\n",
       "         1.57845168e+01],\n",
       "       [ 9.87006227e-01, -3.87434512e-05,  3.93402783e-04,\n",
       "        -9.86486203e-01,  4.15612773e-04,  2.65502988e-04,\n",
       "        -2.90666344e-03],\n",
       "       [ 1.34868786e+00,  2.13150442e-04,  4.61778029e-04,\n",
       "        -1.40834082e+00,  2.65502988e-04,  5.63111867e-04,\n",
       "        -1.49242367e-02],\n",
       "       [-2.03400763e+01, -4.67760389e-03, -5.32582198e-03,\n",
       "         1.57845168e+01, -2.90666344e-03, -1.49242367e-02,\n",
       "         5.77698409e+00]])"
      ]
     },
     "execution_count": 148,
     "metadata": {},
     "output_type": "execute_result"
    }
   ],
   "source": [
    "pcov"
   ]
  },
  {
   "cell_type": "code",
   "execution_count": 149,
   "metadata": {},
   "outputs": [
    {
     "data": {
      "text/plain": [
       "[<matplotlib.lines.Line2D at 0x7f2f8efb4a20>]"
      ]
     },
     "execution_count": 149,
     "metadata": {},
     "output_type": "execute_result"
    },
    {
     "data": {
      "image/png": "[encoded data removed]",
      "text/plain": [
       "<Figure size 432x288 with 1 Axes>"
      ]
     },
     "metadata": {
      "needs_background": "light"
     },
     "output_type": "display_data"
    }
   ],
   "source": [
    "fig = plt.figure()\n",
    "plt.plot(wavelength, two_gaussians(wavelength, *popt),'r')\n",
    "plt.plot(wavelength, intensity)\n",
    "plt.plot(wavelength, gaussian(wavelength, *popt[:3]))\n",
    "plt.plot(wavelength, gaussian(wavelength, *popt[3:6]))"
   ]
  },
  {
   "cell_type": "code",
   "execution_count": 151,
   "metadata": {},
   "outputs": [],
   "source": [
    "popt, pcov = curve_fit(three_gaussians, wavelength, intensity,\\\n",
    "                       [4000, 700, 50, 4000, 700, 50, 4000,\\\n",
    "                        700, 50, 10])"
   ]
  },
  {
   "cell_type": "code",
   "execution_count": 159,
   "metadata": {},
   "outputs": [
    {
     "ename": "RuntimeError",
     "evalue": "Optimal parameters not found: Number of calls to function has reached maxfev = 2800.",
     "output_type": "error",
     "traceback": [
      "\u001b[0;31m---------------------------------------------------------------------------\u001b[0m",
      "\u001b[0;31mRuntimeError\u001b[0m                              Traceback (most recent call last)",
      "\u001b[0;32m<ipython-input-159-d51d19f40fe0>\u001b[0m in \u001b[0;36m<module>\u001b[0;34m\u001b[0m\n\u001b[1;32m      1\u001b[0m popt, pcov = curve_fit(_4gaussians, wavelength, intensity,\\\n\u001b[1;32m      2\u001b[0m                        [2000, 700, 50, 2000, 700, 50, 2000,\\\n\u001b[0;32m----> 3\u001b[0;31m                         700, 50, 2000, 700, 50, 10])\n\u001b[0m",
      "\u001b[0;32m~/anaconda3/lib/python3.7/site-packages/scipy/optimize/minpack.py\u001b[0m in \u001b[0;36mcurve_fit\u001b[0;34m(f, xdata, ydata, p0, sigma, absolute_sigma, check_finite, bounds, method, jac, **kwargs)\u001b[0m\n\u001b[1;32m    787\u001b[0m         \u001b[0mcost\u001b[0m \u001b[0;34m=\u001b[0m \u001b[0mnp\u001b[0m\u001b[0;34m.\u001b[0m\u001b[0msum\u001b[0m\u001b[0;34m(\u001b[0m\u001b[0minfodict\u001b[0m\u001b[0;34m[\u001b[0m\u001b[0;34m'fvec'\u001b[0m\u001b[0;34m]\u001b[0m \u001b[0;34m**\u001b[0m \u001b[0;36m2\u001b[0m\u001b[0;34m)\u001b[0m\u001b[0;34m\u001b[0m\u001b[0;34m\u001b[0m\u001b[0m\n\u001b[1;32m    788\u001b[0m         \u001b[0;32mif\u001b[0m \u001b[0mier\u001b[0m \u001b[0;32mnot\u001b[0m \u001b[0;32min\u001b[0m \u001b[0;34m[\u001b[0m\u001b[0;36m1\u001b[0m\u001b[0;34m,\u001b[0m \u001b[0;36m2\u001b[0m\u001b[0;34m,\u001b[0m \u001b[0;36m3\u001b[0m\u001b[0;34m,\u001b[0m \u001b[0;36m4\u001b[0m\u001b[0;34m]\u001b[0m\u001b[0;34m:\u001b[0m\u001b[0;34m\u001b[0m\u001b[0;34m\u001b[0m\u001b[0m\n\u001b[0;32m--> 789\u001b[0;31m             \u001b[0;32mraise\u001b[0m \u001b[0mRuntimeError\u001b[0m\u001b[0;34m(\u001b[0m\u001b[0;34m\"Optimal parameters not found: \"\u001b[0m \u001b[0;34m+\u001b[0m \u001b[0merrmsg\u001b[0m\u001b[0;34m)\u001b[0m\u001b[0;34m\u001b[0m\u001b[0;34m\u001b[0m\u001b[0m\n\u001b[0m\u001b[1;32m    790\u001b[0m     \u001b[0;32melse\u001b[0m\u001b[0;34m:\u001b[0m\u001b[0;34m\u001b[0m\u001b[0;34m\u001b[0m\u001b[0m\n\u001b[1;32m    791\u001b[0m         \u001b[0;31m# Rename maxfev (leastsq) to max_nfev (least_squares), if specified.\u001b[0m\u001b[0;34m\u001b[0m\u001b[0;34m\u001b[0m\u001b[0;34m\u001b[0m\u001b[0m\n",
      "\u001b[0;31mRuntimeError\u001b[0m: Optimal parameters not found: Number of calls to function has reached maxfev = 2800."
     ]
    }
   ],
   "source": [
    "popt, pcov = curve_fit(_4gaussians, wavelength, intensity,\\\n",
    "                       [2000, 700, 50, 2000, 700, 50, 2000,\\\n",
    "                        700, 50, 2000, 700, 50, 10])"
   ]
  },
  {
   "cell_type": "code",
   "execution_count": 152,
   "metadata": {},
   "outputs": [
    {
     "data": {
      "text/plain": [
       "array([2.58504524e+04, 7.74332886e+02, 2.45571658e+01, 1.59143650e+04,\n",
       "       7.67627571e+02, 1.19247913e+01, 1.01982675e+03, 7.70273370e+02,\n",
       "       6.84340900e+00, 6.56952780e+02])"
      ]
     },
     "execution_count": 152,
     "metadata": {},
     "output_type": "execute_result"
    }
   ],
   "source": [
    "popt"
   ]
  },
  {
   "cell_type": "code",
   "execution_count": 134,
   "metadata": {
    "scrolled": true
   },
   "outputs": [
    {
     "data": {
      "text/plain": [
       "[<matplotlib.lines.Line2D at 0x7f2f8f3bc7f0>]"
      ]
     },
     "execution_count": 134,
     "metadata": {},
     "output_type": "execute_result"
    },
    {
     "data": {
      "image/png": "[encoded data removed]",
      "text/plain": [
       "<Figure size 432x288 with 1 Axes>"
      ]
     },
     "metadata": {
      "needs_background": "light"
     },
     "output_type": "display_data"
    }
   ],
   "source": [
    "fig = plt.figure()\n",
    "plt.plot(wavelength, three_gaussians(wavelength, *popt),'r')\n",
    "plt.plot(wavelength, intensity)\n",
    "plt.plot(wavelength, gaussian(wavelength, *popt[:3]))\n",
    "plt.plot(wavelength, gaussian(wavelength, *popt[3:6]))\n",
    "plt.plot(wavelength, gaussian(wavelength, *popt[6:9]))"
   ]
  },
  {
   "cell_type": "code",
   "execution_count": 25,
   "metadata": {},
   "outputs": [
    {
     "ename": "NameError",
     "evalue": "name 'wavelength' is not defined",
     "output_type": "error",
     "traceback": [
      "\u001b[0;31m---------------------------------------------------------------------------\u001b[0m",
      "\u001b[0;31mNameError\u001b[0m                                 Traceback (most recent call last)",
      "\u001b[0;32m<ipython-input-25-fd2f09824c0f>\u001b[0m in \u001b[0;36m<module>\u001b[0;34m\u001b[0m\n\u001b[1;32m      1\u001b[0m \u001b[0mfig\u001b[0m \u001b[0;34m=\u001b[0m \u001b[0mplt\u001b[0m\u001b[0;34m.\u001b[0m\u001b[0mfigure\u001b[0m\u001b[0;34m(\u001b[0m\u001b[0;34m)\u001b[0m\u001b[0;34m\u001b[0m\u001b[0;34m\u001b[0m\u001b[0m\n\u001b[0;32m----> 2\u001b[0;31m \u001b[0mplt\u001b[0m\u001b[0;34m.\u001b[0m\u001b[0mplot\u001b[0m\u001b[0;34m(\u001b[0m\u001b[0mwavelength\u001b[0m\u001b[0;34m,\u001b[0m \u001b[0mintensity\u001b[0m\u001b[0;34m,\u001b[0m\u001b[0;34m'b'\u001b[0m\u001b[0;34m)\u001b[0m\u001b[0;34m\u001b[0m\u001b[0;34m\u001b[0m\u001b[0m\n\u001b[0m\u001b[1;32m      3\u001b[0m \u001b[0mfig\u001b[0m \u001b[0;34m=\u001b[0m \u001b[0mplt\u001b[0m\u001b[0;34m.\u001b[0m\u001b[0mfigure\u001b[0m\u001b[0;34m(\u001b[0m\u001b[0;34m)\u001b[0m\u001b[0;34m\u001b[0m\u001b[0;34m\u001b[0m\u001b[0m\n\u001b[1;32m      4\u001b[0m \u001b[0mplt\u001b[0m\u001b[0;34m.\u001b[0m\u001b[0mplot\u001b[0m\u001b[0;34m(\u001b[0m\u001b[0mwavelength\u001b[0m\u001b[0;34m,\u001b[0m \u001b[0m_4gaussians\u001b[0m\u001b[0;34m(\u001b[0m\u001b[0mwavelength\u001b[0m\u001b[0;34m,\u001b[0m \u001b[0;34m*\u001b[0m\u001b[0mpopt\u001b[0m\u001b[0;34m)\u001b[0m\u001b[0;34m,\u001b[0m\u001b[0;34m'r--'\u001b[0m\u001b[0;34m)\u001b[0m\u001b[0;34m\u001b[0m\u001b[0;34m\u001b[0m\u001b[0m\n\u001b[1;32m      5\u001b[0m \u001b[0mplt\u001b[0m\u001b[0;34m.\u001b[0m\u001b[0mplot\u001b[0m\u001b[0;34m(\u001b[0m\u001b[0mwavelength\u001b[0m\u001b[0;34m,\u001b[0m \u001b[0mgaussian\u001b[0m\u001b[0;34m(\u001b[0m\u001b[0mwavelength\u001b[0m\u001b[0;34m,\u001b[0m \u001b[0;34m*\u001b[0m\u001b[0mpopt\u001b[0m\u001b[0;34m[\u001b[0m\u001b[0;34m:\u001b[0m\u001b[0;36m3\u001b[0m\u001b[0;34m]\u001b[0m\u001b[0;34m)\u001b[0m\u001b[0;34m)\u001b[0m\u001b[0;34m\u001b[0m\u001b[0;34m\u001b[0m\u001b[0m\n",
      "\u001b[0;31mNameError\u001b[0m: name 'wavelength' is not defined"
     ]
    },
    {
     "data": {
      "text/plain": [
       "<Figure size 432x288 with 0 Axes>"
      ]
     },
     "metadata": {},
     "output_type": "display_data"
    }
   ],
   "source": [
    "fig = plt.figure()\n",
    "plt.plot(wavelength, intensity,'b')\n",
    "plt.plot(wavelength, _4gaussians(wavelength, *popt),'r--')\n",
    "plt.plot(wavelength, gaussian(wavelength, *popt[:3]))\n",
    "plt.plot(wavelength, gaussian(wavelength, *popt[3:6]))\n",
    "plt.plot(wavelength, gaussian(wavelength, *popt[6:9]))\n",
    "plt.plot(wavelength, gaussian(wavelength, *popt[9:12]))"
   ]
  },
  {
   "cell_type": "code",
   "execution_count": 219,
   "metadata": {},
   "outputs": [],
   "source": [
    "from scipy import signal"
   ]
  },
  {
   "cell_type": "code",
   "execution_count": 221,
   "metadata": {},
   "outputs": [
    {
     "name": "stdout",
     "output_type": "stream",
     "text": [
      "<function gaussian at 0x7fb9c438bae8>\n"
     ]
    }
   ],
   "source": [
    "print(signal.gaussian)"
   ]
  },
  {
   "cell_type": "code",
   "execution_count": 255,
   "metadata": {},
   "outputs": [
    {
     "data": {
      "text/plain": [
       "'2min/07-30-2020 13_26_20 MAPbI3_first_minutes 5-Frame-01.csv'"
      ]
     },
     "execution_count": 255,
     "metadata": {},
     "output_type": "execute_result"
    }
   ],
   "source": [
    "files=sorted(glob.glob(\"2min/*.csv\"))\n",
    "# a=[print(each) for each in files]\n",
    "# print(file)\n",
    "files[0]"
   ]
  },
  {
   "cell_type": "code",
   "execution_count": 256,
   "metadata": {},
   "outputs": [],
   "source": [
    "class PLspec:\n",
    "    def __init__(self, file, Wmin=550, Wmax=1000):\n",
    "        self.c = 2.99792458e8 * 1e9 #\n",
    "        self.h = 4.1357e-15 #eV*s\n",
    "        self.file = file\n",
    "        self.og = pd.read_csv(self.file, index_col=None, header=0)\n",
    "        self.df = self.og\n",
    "        self.Wmin = Wmin\n",
    "        self.Wmax = Wmax\n",
    "        self.minCond = self.df[\"Wavelength\"]>self.Wmin\n",
    "        self.maxCond = self.df[\"Wavelength\"]<self.Wmax\n",
    "        self.formatData()\n",
    "        \n",
    "    def formatData(self):\n",
    "        self.W = self.df[\"Wavelength\"]\n",
    "        self.I = self.df[\"Intensity\"]\n",
    "        self.E = self.c/self.W*self.h\n",
    "        self.IweightedW = sum(self.I*self.W)/sum(self.I)\n",
    "        self.IweightedE = sum(self.I*self.E)/sum(self.I)\n",
    "        \n",
    "    def plotW(self):\n",
    "        plt.plot(self.W, self.I,'b')\n",
    "        \n",
    "    \n",
    "    def plotE(self):\n",
    "        plt.plot(self.E, self.I,'b')\n",
    "        \n",
    "        \n",
    "    def retore(self):\n",
    "        self.df = self.og \n",
    "        self.formatData()\n",
    "\n",
    "        \n",
    "    def narrow(self, Wmin=550, Wmax=1000):\n",
    "        self.Wmin = Wmin\n",
    "        self.Wmax = Wmax\n",
    "        self.minCond = self.df[\"Wavelength\"]>self.Wmin\n",
    "        self.maxCond = self.df[\"Wavelength\"]<self.Wmax\n",
    "        self.df = self.df[self.minCond & self.maxCond]\n",
    "        self.formatData()\n",
    "        \n",
    "    \n",
    "    def gaussian(self, x, mu, sigma, height):\n",
    "        return height*np.exp(-(x - mu)**2/(2*sigma**2))\n",
    "\n",
    "        "
   ]
  },
  {
   "cell_type": "code",
   "execution_count": 257,
   "metadata": {},
   "outputs": [
    {
     "data": {
      "text/html": [
       "<div>\n",
       "<style scoped>\n",
       "    .dataframe tbody tr th:only-of-type {\n",
       "        vertical-align: middle;\n",
       "    }\n",
       "\n",
       "    .dataframe tbody tr th {\n",
       "        vertical-align: top;\n",
       "    }\n",
       "\n",
       "    .dataframe thead th {\n",
       "        text-align: right;\n",
       "    }\n",
       "</style>\n",
       "<table border=\"1\" class=\"dataframe\">\n",
       "  <thead>\n",
       "    <tr style=\"text-align: right;\">\n",
       "      <th></th>\n",
       "      <th>ROI</th>\n",
       "      <th>Frame</th>\n",
       "      <th>Wavelength</th>\n",
       "      <th>Row</th>\n",
       "      <th>Column</th>\n",
       "      <th>Intensity</th>\n",
       "    </tr>\n",
       "  </thead>\n",
       "  <tbody>\n",
       "    <tr>\n",
       "      <th>316</th>\n",
       "      <td>1</td>\n",
       "      <td>1</td>\n",
       "      <td>550.048676</td>\n",
       "      <td>0</td>\n",
       "      <td>316</td>\n",
       "      <td>634.337524</td>\n",
       "    </tr>\n",
       "    <tr>\n",
       "      <th>317</th>\n",
       "      <td>1</td>\n",
       "      <td>1</td>\n",
       "      <td>550.475227</td>\n",
       "      <td>0</td>\n",
       "      <td>317</td>\n",
       "      <td>633.187500</td>\n",
       "    </tr>\n",
       "    <tr>\n",
       "      <th>318</th>\n",
       "      <td>1</td>\n",
       "      <td>1</td>\n",
       "      <td>550.901768</td>\n",
       "      <td>0</td>\n",
       "      <td>318</td>\n",
       "      <td>634.049988</td>\n",
       "    </tr>\n",
       "    <tr>\n",
       "      <th>319</th>\n",
       "      <td>1</td>\n",
       "      <td>1</td>\n",
       "      <td>551.328300</td>\n",
       "      <td>0</td>\n",
       "      <td>319</td>\n",
       "      <td>633.637512</td>\n",
       "    </tr>\n",
       "    <tr>\n",
       "      <th>320</th>\n",
       "      <td>1</td>\n",
       "      <td>1</td>\n",
       "      <td>551.754823</td>\n",
       "      <td>0</td>\n",
       "      <td>320</td>\n",
       "      <td>633.424988</td>\n",
       "    </tr>\n",
       "    <tr>\n",
       "      <th>...</th>\n",
       "      <td>...</td>\n",
       "      <td>...</td>\n",
       "      <td>...</td>\n",
       "      <td>...</td>\n",
       "      <td>...</td>\n",
       "      <td>...</td>\n",
       "    </tr>\n",
       "    <tr>\n",
       "      <th>1335</th>\n",
       "      <td>1</td>\n",
       "      <td>1</td>\n",
       "      <td>978.880246</td>\n",
       "      <td>0</td>\n",
       "      <td>1335</td>\n",
       "      <td>623.700012</td>\n",
       "    </tr>\n",
       "    <tr>\n",
       "      <th>1336</th>\n",
       "      <td>1</td>\n",
       "      <td>1</td>\n",
       "      <td>979.294411</td>\n",
       "      <td>0</td>\n",
       "      <td>1336</td>\n",
       "      <td>626.137512</td>\n",
       "    </tr>\n",
       "    <tr>\n",
       "      <th>1337</th>\n",
       "      <td>1</td>\n",
       "      <td>1</td>\n",
       "      <td>979.708562</td>\n",
       "      <td>0</td>\n",
       "      <td>1337</td>\n",
       "      <td>624.200012</td>\n",
       "    </tr>\n",
       "    <tr>\n",
       "      <th>1338</th>\n",
       "      <td>1</td>\n",
       "      <td>1</td>\n",
       "      <td>980.122697</td>\n",
       "      <td>0</td>\n",
       "      <td>1338</td>\n",
       "      <td>625.450012</td>\n",
       "    </tr>\n",
       "    <tr>\n",
       "      <th>1339</th>\n",
       "      <td>1</td>\n",
       "      <td>1</td>\n",
       "      <td>980.536818</td>\n",
       "      <td>0</td>\n",
       "      <td>1339</td>\n",
       "      <td>625.450012</td>\n",
       "    </tr>\n",
       "  </tbody>\n",
       "</table>\n",
       "<p>1024 rows × 6 columns</p>\n",
       "</div>"
      ],
      "text/plain": [
       "      ROI  Frame  Wavelength  Row  Column   Intensity\n",
       "316     1      1  550.048676    0     316  634.337524\n",
       "317     1      1  550.475227    0     317  633.187500\n",
       "318     1      1  550.901768    0     318  634.049988\n",
       "319     1      1  551.328300    0     319  633.637512\n",
       "320     1      1  551.754823    0     320  633.424988\n",
       "...   ...    ...         ...  ...     ...         ...\n",
       "1335    1      1  978.880246    0    1335  623.700012\n",
       "1336    1      1  979.294411    0    1336  626.137512\n",
       "1337    1      1  979.708562    0    1337  624.200012\n",
       "1338    1      1  980.122697    0    1338  625.450012\n",
       "1339    1      1  980.536818    0    1339  625.450012\n",
       "\n",
       "[1024 rows x 6 columns]"
      ]
     },
     "execution_count": 257,
     "metadata": {},
     "output_type": "execute_result"
    }
   ],
   "source": [
    "mySpec=PLspec(files[0])\n",
    "mySpec.IweightedW\n",
    "# narrowed=mySpec.df[\"Wavelength\"]>550\n",
    "# mySpec.df[narrowed]\n",
    "mySpec.df[mySpec.minCond]\n",
    "mySpec.narrow()\n",
    "mySpec.df"
   ]
  },
  {
   "cell_type": "code",
   "execution_count": 258,
   "metadata": {},
   "outputs": [],
   "source": [
    "class PLevol:\n",
    "    def __init__(self, folder):\n",
    "        self.og = [PLspec(file) for file in sorted(glob.glob(folder+\"/*.csv\"))]\n",
    "        self.PLs = self.og\n",
    "        self.avgseries = [spec.IweightedW for spec in self.PLs]\n",
    "        self.Eavgseries = [each.IweightedE for each in self.PLs]\n",
    "        \n",
    "    def restore(self):\n",
    "        self.PLs = self.og \n",
    "        \n",
    "    def narrow(self, Wmin=550, Wmax=1000):\n",
    "        [PL.narrow(Wmin, Wmax) for PL in self.og]\n",
    "        self.Wavgseries = [each.IweightedW for each in self.PLs]\n",
    "        self.Eavgseries = [each.IweightedE for each in self.PLs]"
   ]
  },
  {
   "cell_type": "code",
   "execution_count": 259,
   "metadata": {},
   "outputs": [],
   "source": [
    "IBr2 = PLevol(\"2min\")\n",
    "# IBr2.avgseries\n",
    "IBr2.narrow(Wmin=400)"
   ]
  },
  {
   "cell_type": "code",
   "execution_count": 261,
   "metadata": {},
   "outputs": [
    {
     "data": {
      "image/png": "[encoded data removed]",
      "text/plain": [
       "<Figure size 432x288 with 1 Axes>"
      ]
     },
     "metadata": {
      "needs_background": "light"
     },
     "output_type": "display_data"
    },
    {
     "data": {
      "text/plain": [
       "<Figure size 432x288 with 0 Axes>"
      ]
     },
     "metadata": {},
     "output_type": "display_data"
    }
   ],
   "source": [
    "fig = plt.figure()\n",
    "plt.plot(IBr2.Wavgseries[1:],'b')\n",
    "fig = plt.figure()"
   ]
  },
  {
   "cell_type": "code",
   "execution_count": 260,
   "metadata": {},
   "outputs": [
    {
     "data": {
      "image/png": "[encoded data removed]",
      "text/plain": [
       "<Figure size 432x288 with 1 Axes>"
      ]
     },
     "metadata": {
      "needs_background": "light"
     },
     "output_type": "display_data"
    },
    {
     "data": {
      "text/plain": [
       "<Figure size 432x288 with 0 Axes>"
      ]
     },
     "metadata": {},
     "output_type": "display_data"
    }
   ],
   "source": [
    "fig = plt.figure()\n",
    "plt.plot(IBr2.Eavgseries[1:],'b')\n",
    "fig = plt.figure()"
   ]
  },
  {
   "cell_type": "code",
   "execution_count": 264,
   "metadata": {},
   "outputs": [
    {
     "data": {
      "image/png": "[encoded data removed]",
      "text/plain": [
       "<Figure size 432x288 with 1 Axes>"
      ]
     },
     "metadata": {
      "needs_background": "light"
     },
     "output_type": "display_data"
    }
   ],
   "source": [
    "IBr2.PLs[1].plotE()"
   ]
  },
  {
   "cell_type": "code",
   "execution_count": 212,
   "metadata": {},
   "outputs": [
    {
     "data": {
      "text/plain": [
       "60"
      ]
     },
     "execution_count": 212,
     "metadata": {},
     "output_type": "execute_result"
    }
   ],
   "source": [
    "len(IBr2.PLs)"
   ]
  },
  {
   "cell_type": "code",
   "execution_count": null,
   "metadata": {},
   "outputs": [],
   "source": []
  }
 ],
 "metadata": {
  "kernelspec": {
   "display_name": "Python 3",
   "language": "python",
   "name": "python3"
  },
  "language_info": {
   "codemirror_mode": {
    "name": "ipython",
    "version": 3
   },
   "file_extension": ".py",
   "mimetype": "text/x-python",
   "name": "python",
   "nbconvert_exporter": "python",
   "pygments_lexer": "ipython3",
   "version": "3.7.3"
  }
 },
 "nbformat": 4,
 "nbformat_minor": 4
}
